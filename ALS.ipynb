{
 "cells": [
  {
   "cell_type": "code",
   "execution_count": 1,
   "metadata": {},
   "outputs": [
    {
     "name": "stdout",
     "output_type": "stream",
     "text": [
      "env: OPENBLAS_NUM_THREADS=1\n"
     ]
    }
   ],
   "source": [
    "%env OPENBLAS_NUM_THREADS=1"
   ]
  },
  {
   "cell_type": "code",
   "execution_count": 2,
   "metadata": {},
   "outputs": [],
   "source": [
    "import implicit\n",
    "import pandas as pd\n",
    "import scipy.sparse as sparse\n",
    "\n",
    "from tqdm import tqdm\n",
    "from collections import defaultdict"
   ]
  },
  {
   "cell_type": "code",
   "execution_count": 3,
   "metadata": {},
   "outputs": [],
   "source": [
    "# Load the data\n",
    "raw_data = pd.read_csv(\"train.csv\")\n",
    "test_data = pd.read_csv(\"test.csv\")\n",
    "\n",
    "# Drop NaN columns\n",
    "data = raw_data.dropna()\n",
    "data = data.copy()"
   ]
  },
  {
   "cell_type": "code",
   "execution_count": 4,
   "metadata": {},
   "outputs": [
    {
     "data": {
      "text/html": [
       "<div>\n",
       "<style scoped>\n",
       "    .dataframe tbody tr th:only-of-type {\n",
       "        vertical-align: middle;\n",
       "    }\n",
       "\n",
       "    .dataframe tbody tr th {\n",
       "        vertical-align: top;\n",
       "    }\n",
       "\n",
       "    .dataframe thead th {\n",
       "        text-align: right;\n",
       "    }\n",
       "</style>\n",
       "<table border=\"1\" class=\"dataframe\">\n",
       "  <thead>\n",
       "    <tr style=\"text-align: right;\">\n",
       "      <th></th>\n",
       "      <th>UserId</th>\n",
       "      <th>productid</th>\n",
       "      <th>Quantity</th>\n",
       "      <th>OrderDate</th>\n",
       "    </tr>\n",
       "  </thead>\n",
       "  <tbody>\n",
       "    <tr>\n",
       "      <th>0</th>\n",
       "      <td>18075</td>\n",
       "      <td>12322648</td>\n",
       "      <td>1</td>\n",
       "      <td>01/04/18</td>\n",
       "    </tr>\n",
       "    <tr>\n",
       "      <th>1</th>\n",
       "      <td>6820</td>\n",
       "      <td>12371370</td>\n",
       "      <td>1</td>\n",
       "      <td>01/04/18</td>\n",
       "    </tr>\n",
       "    <tr>\n",
       "      <th>2</th>\n",
       "      <td>6820</td>\n",
       "      <td>12973004</td>\n",
       "      <td>1</td>\n",
       "      <td>01/04/18</td>\n",
       "    </tr>\n",
       "    <tr>\n",
       "      <th>3</th>\n",
       "      <td>6820</td>\n",
       "      <td>12657560</td>\n",
       "      <td>1</td>\n",
       "      <td>01/04/18</td>\n",
       "    </tr>\n",
       "    <tr>\n",
       "      <th>4</th>\n",
       "      <td>6820</td>\n",
       "      <td>11659914</td>\n",
       "      <td>1</td>\n",
       "      <td>01/04/18</td>\n",
       "    </tr>\n",
       "    <tr>\n",
       "      <th>5</th>\n",
       "      <td>18075</td>\n",
       "      <td>12322648</td>\n",
       "      <td>1</td>\n",
       "      <td>01/04/18</td>\n",
       "    </tr>\n",
       "    <tr>\n",
       "      <th>6</th>\n",
       "      <td>26784</td>\n",
       "      <td>12658110</td>\n",
       "      <td>1</td>\n",
       "      <td>01/04/18</td>\n",
       "    </tr>\n",
       "    <tr>\n",
       "      <th>7</th>\n",
       "      <td>16920</td>\n",
       "      <td>11659532</td>\n",
       "      <td>1</td>\n",
       "      <td>01/04/18</td>\n",
       "    </tr>\n",
       "    <tr>\n",
       "      <th>8</th>\n",
       "      <td>26784</td>\n",
       "      <td>12407108</td>\n",
       "      <td>1</td>\n",
       "      <td>01/04/18</td>\n",
       "    </tr>\n",
       "    <tr>\n",
       "      <th>9</th>\n",
       "      <td>26784</td>\n",
       "      <td>11660062</td>\n",
       "      <td>1</td>\n",
       "      <td>01/04/18</td>\n",
       "    </tr>\n",
       "  </tbody>\n",
       "</table>\n",
       "</div>"
      ],
      "text/plain": [
       "   UserId  productid  Quantity OrderDate\n",
       "0   18075   12322648         1  01/04/18\n",
       "1    6820   12371370         1  01/04/18\n",
       "2    6820   12973004         1  01/04/18\n",
       "3    6820   12657560         1  01/04/18\n",
       "4    6820   11659914         1  01/04/18\n",
       "5   18075   12322648         1  01/04/18\n",
       "6   26784   12658110         1  01/04/18\n",
       "7   16920   11659532         1  01/04/18\n",
       "8   26784   12407108         1  01/04/18\n",
       "9   26784   11660062         1  01/04/18"
      ]
     },
     "execution_count": 4,
     "metadata": {},
     "output_type": "execute_result"
    }
   ],
   "source": [
    "data.head(10)"
   ]
  },
  {
   "cell_type": "code",
   "execution_count": 5,
   "metadata": {},
   "outputs": [],
   "source": [
    "sparse_item_user = sparse.csr_matrix((data['Quantity'].astype(float), (data['productid'], data['UserId'])))\n",
    "sparse_user_item = sparse.csr_matrix((data['Quantity'].astype(float), (data['UserId'], data['productid'])))"
   ]
  },
  {
   "cell_type": "code",
   "execution_count": 6,
   "metadata": {},
   "outputs": [],
   "source": [
    "#### sort based on date\n",
    "data['OrderDate'] = pd.to_datetime(data.OrderDate)\n",
    "data = data.sort_values('OrderDate')"
   ]
  },
  {
   "cell_type": "code",
   "execution_count": 7,
   "metadata": {},
   "outputs": [],
   "source": [
    "##### user_2_prod: mapping of user_id to list of products purchased by user\n",
    "user_2_prod = defaultdict(list)\n",
    "\n",
    "for user, prod in zip(data.UserId, data.productid):\n",
    "    user_2_prod[user].append(prod)"
   ]
  },
  {
   "cell_type": "code",
   "execution_count": 8,
   "metadata": {},
   "outputs": [
    {
     "name": "stderr",
     "output_type": "stream",
     "text": [
      "100%|██████████| 20.0/20 [00:46<00:00,  1.95s/it, loss=2.3e-6] \n"
     ]
    }
   ],
   "source": [
    "# Create recommendations for all users\n",
    "fields=['UserId', 'product_list']\n",
    "userids = test_data['UserId'].drop_duplicates().values.tolist()\n",
    "\n",
    "# Initialize the als model and fit it using the sparse item-user matrix\n",
    "model = implicit.als.AlternatingLeastSquares(factors=40, \n",
    "                                             regularization=0.2, \n",
    "                                             iterations=20, \n",
    "                                             calculate_training_loss=True)\n",
    "\n",
    "alpha_val = 25\n",
    "data_conf = (sparse_item_user * alpha_val).astype('double')\n",
    "\n",
    "# Fit the model\n",
    "model.fit(data_conf)"
   ]
  },
  {
   "cell_type": "code",
   "execution_count": 9,
   "metadata": {},
   "outputs": [
    {
     "name": "stderr",
     "output_type": "stream",
     "text": [
      "100%|██████████| 2350/2350 [08:23<00:00,  4.89it/s]\n"
     ]
    }
   ],
   "source": [
    "final_recommendation_list = []\n",
    "\n",
    "for user in tqdm(userids):\n",
    "\n",
    "    # Use implicit to get similar items.\n",
    "    # similar items are got based on last purchased item from user. \n",
    "    n_similar = 10\n",
    "    similar = model.similar_items(user_2_prod[user][-1], n_similar)\n",
    "    \n",
    "    prod_ids_sim = [obj[0] for obj in similar]\n",
    "    final_recommendation_list.append(prod_ids_sim)"
   ]
  },
  {
   "cell_type": "code",
   "execution_count": 10,
   "metadata": {},
   "outputs": [],
   "source": [
    "#### create submission\n",
    "filename = 'submission.csv'\n",
    "sub = pd.DataFrame(columns=fields)\n",
    "\n",
    "sub['UserId'] = userids\n",
    "sub['product_list'] = final_recommendation_list\n",
    "sub.to_csv(filename, index=False)"
   ]
  },
  {
   "cell_type": "code",
   "execution_count": 11,
   "metadata": {},
   "outputs": [],
   "source": [
    "####score on Publi LB: Mean Average Precision @10:"
   ]
  }
 ],
 "metadata": {
  "kernelspec": {
   "display_name": "Python 3",
   "language": "python",
   "name": "python3"
  },
  "language_info": {
   "codemirror_mode": {
    "name": "ipython",
    "version": 3
   },
   "file_extension": ".py",
   "mimetype": "text/x-python",
   "name": "python",
   "nbconvert_exporter": "python",
   "pygments_lexer": "ipython3",
   "version": "3.6.8"
  }
 },
 "nbformat": 4,
 "nbformat_minor": 2
}
